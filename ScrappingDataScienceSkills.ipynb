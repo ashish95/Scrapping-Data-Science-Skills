{
 "cells": [
  {
   "cell_type": "markdown",
   "metadata": {},
   "source": [
    "#Advanced Example\n",
    "-----------------------------\n",
    "---------------------------\n",
    "#Idea By [Jesse Steinweg-Woods](https://jessesw.com/Data-Science-Skills/)\n",
    "----------------------------------------------------\n",
    "\n",
    "#Reference CS109\n",
    "--------------------------"
   ]
  },
  {
   "cell_type": "markdown",
   "metadata": {},
   "source": [
    "Scraping Data Science Skills\n",
    "=======================\n",
    "- What Skills are in demand for data scientist\n",
    "\n",
    "Scraping pages of indeed.com"
   ]
  },
  {
   "cell_type": "markdown",
   "metadata": {},
   "source": [
    "**All the imports are case sensitive in python**"
   ]
  },
  {
   "cell_type": "code",
   "execution_count": 8,
   "metadata": {},
   "outputs": [],
   "source": [
    "import urllib\n",
    "import time\n",
    "import socket\n",
    "from IPython.display import HTML\n",
    "import bs4\n",
    "import _pickle as pickle\n",
    "import numpy as np\n",
    "import operator\n",
    "import re\n",
    "\n",
    "import pandas as pd\n",
    "from pandas import DataFrame\n",
    "from pandas import Series\n",
    "\n",
    "import matplotlib.pyplot as plt\n",
    "import matplotlib\n",
    "%matplotlib inline\n",
    "\n",
    "import seaborn as sns\n",
    "sns.set_context(\"talk\")\n",
    "sns.set_style(\"white\")"
   ]
  },
  {
   "cell_type": "code",
   "execution_count": 29,
   "metadata": {},
   "outputs": [
    {
     "data": {
      "text/plain": [
       "bs4.element.NavigableString"
      ]
     },
     "execution_count": 29,
     "metadata": {},
     "output_type": "execute_result"
    }
   ],
   "source": [
    "url = \"https://www.indeed.co.in/jobs?q=Data+Science&l=\"\n",
    "\n",
    "source = urllib.request.urlopen(url).read()\n",
    "# source\n",
    "\n",
    "bs_tree = bs4.BeautifulSoup(source)\n",
    "# print(bs_tree.prettify())\n",
    "\n",
    "job_postings = bs_tree.find(id = \"searchCount\").contents[0]\n",
    "# job_postings"
   ]
  },
  {
   "cell_type": "code",
   "execution_count": 39,
   "metadata": {},
   "outputs": [
    {
     "name": "stdout",
     "output_type": "stream",
     "text": [
      "The search yeilded 15,599 hits\n"
     ]
    },
    {
     "data": {
      "text/plain": [
       "15599"
      ]
     },
     "execution_count": 39,
     "metadata": {},
     "output_type": "execute_result"
    }
   ],
   "source": [
    "print(\"The search yeilded %s hits\" % (job_postings).split()[3])\n",
    "int(job_postings.split()[3].translate({ord(','): None}))"
   ]
  },
  {
   "cell_type": "code",
   "execution_count": null,
   "metadata": {},
   "outputs": [],
   "source": []
  }
 ],
 "metadata": {
  "kernelspec": {
   "display_name": "Python 3",
   "language": "python",
   "name": "python3"
  },
  "language_info": {
   "codemirror_mode": {
    "name": "ipython",
    "version": 3
   },
   "file_extension": ".py",
   "mimetype": "text/x-python",
   "name": "python",
   "nbconvert_exporter": "python",
   "pygments_lexer": "ipython3",
   "version": "3.7.3"
  }
 },
 "nbformat": 4,
 "nbformat_minor": 2
}
